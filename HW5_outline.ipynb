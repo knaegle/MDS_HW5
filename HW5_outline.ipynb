{
 "cells": [
  {
   "cell_type": "code",
   "execution_count": null,
   "metadata": {},
   "outputs": [],
   "source": [
    "import pandas as pd\n",
    "import numpy as np\n",
    "from sklearn.cross_decomposition import PLSRegression\n",
    "import matplotlib.pyplot as plt\n",
    "from sklearn.metrics import r2_score\n",
    "from sklearn.metrics import mean_squared_error\n",
    "from sklearn import model_selection\n",
    "\n",
    "four_phosphoProteins = ['p-ERK1/2', 'p-HSP27', 'p-Akt', 'p-p70 S6K']"
   ]
  },
  {
   "cell_type": "code",
   "execution_count": null,
   "metadata": {},
   "outputs": [],
   "source": [
    "X = pd.read_csv('Cosgrove_X_zscore_appended.csv', index_col=0)\n",
    "Y = pd.read_csv('Cosgrove_Y_zscore.csv', index_col = 0)\n",
    "toxic_drugs = pd.read_csv('Cosgrove_drug_toxicity.csv', index_col=0)"
   ]
  },
  {
   "cell_type": "code",
   "execution_count": null,
   "metadata": {},
   "outputs": [],
   "source": [
    "# inspect the Y data in a heatmap\n",
    "plt.figure(figsize=(4,12))\n",
    "plt.imshow(Y.values, aspect='auto', cmap='viridis')\n",
    "plt.colorbar(label='Z-score')\n",
    "plt.yticks(ticks=np.arange(Y.shape[0]), labels=Y.index)\n",
    "plt.xticks(ticks=np.arange(Y.shape[1]), labels=Y.columns, rotation=90)\n",
    "plt.title('Heatmap of Y Data (Z-scores)')\n",
    "plt.xlabel('Signaling Proteins')"
   ]
  },
  {
   "cell_type": "code",
   "execution_count": null,
   "metadata": {},
   "outputs": [],
   "source": [
    "# PLSR with full feature model \n",
    "ncomp = X.shape[1]  #number of components = number of features\n",
    "pls_model = PLSRegression(n_components=ncomp)\n",
    "pls_model.fit(X, Y) # train the model\n",
    "\n",
    "Y_full_pred = pls_model.predict(X) # use the model to make a prediction\n",
    "\n",
    "perc_var_explained = plsr_variance_explained(pls_model, X, Y)\n",
    "\n",
    "\n"
   ]
  },
  {
   "cell_type": "code",
   "execution_count": null,
   "metadata": {},
   "outputs": [],
   "source": [
    "def plsr_variance_explained(pls_model, X, Y):\n",
    "    \"\"\"\n",
    "    Given a fitted PLSRegression model, calculate the variance explained (R^2)\n",
    "    for the response variable.\n",
    "    Parameters:\n",
    "    pls_model (PLSRegression): A fitted PLSRegression model.\n",
    "    X (pd.DataFrame): The predictor variables used in the model.\n",
    "    Y (pd.DataFrame): The response variable used in the model.\n",
    "    Returns:\n",
    "    perc_var_explained: list of floats, The R^2 value indicating variance explained for each component.\n",
    "    \"\"\"\n",
    "    max_components = pls_model.n_components\n",
    "    \n",
    "    perc_var_explained = []\n",
    "    for i in range(0,max_components):\n",
    "        Y_pred2=np.dot(pls_model.x_scores_[:,i].reshape(-1,1),pls_model.y_loadings_[:,i].reshape(-1,1).T)+Y.mean(axis=0)[0]\n",
    "        perc_var_explained.append(round(r2_score(Y,Y_pred2),3)) \n",
    "    return perc_var_explained"
   ]
  },
  {
   "cell_type": "code",
   "execution_count": null,
   "metadata": {},
   "outputs": [],
   "source": [
    "# PLSR with 4 phosphoprotein model, 4 principal components\n",
    "\n",
    "# First get the columns of X that are from the four phosphoprotein models\n",
    "timeCols = ['0.33hr', '4hr',  '24hr', '48hr', 'lateAvg', 'integral']\n",
    "fourProteinCols = []\n",
    "for signal in four_phosphoProteins:\n",
    "    for time in timeCols:\n",
    "        fourProteinCols.append(\"%s_%s\"%(signal,time))\n",
    "X_sub = X[fourProteinCols]\n",
    "\n",
    "ncomp = 4\n",
    "pls = PLSRegression(n_components=ncomp)\n",
    "pls.fit(X_sub, Y)\n",
    "\n",
    "#loadings, scores, and coefficients are part of the pls class \n",
    "#example, x_loadings\n",
    "x_loadings = pls.x_loadings_\n",
    "\n",
    "\n",
    "#find the predicted outputs \n",
    "y_fit = pls.predict(X_sub)"
   ]
  },
  {
   "cell_type": "code",
   "execution_count": null,
   "metadata": {},
   "outputs": [],
   "source": [
    "# Example of leave one out cross-validation, get y_fit in a leave-one-out cross-validation\n",
    "ncomp = 4\n",
    "pls = PLSRegression(n_components=ncomp)\n",
    "\n",
    "X_data = X_sub.to_numpy()\n",
    "Y_data = Y.to_numpy()\n",
    "\n",
    "loo = model_selection.LeaveOneOut()\n",
    "loo.get_n_splits(X)\n",
    "y_fit = []\n",
    "y_true = []\n",
    "for train_index, test_index in loo.split(X_sub):\n",
    "    pls.fit(X_data[train_index], Y_data[train_index])\n",
    "    y_true.append(Y_data[test_index])\n",
    "    y_fit.append(pls.predict(X_data[test_index]))"
   ]
  }
 ],
 "metadata": {
  "kernelspec": {
   "display_name": "CoDIAC-dev",
   "language": "python",
   "name": "python3"
  },
  "language_info": {
   "codemirror_mode": {
    "name": "ipython",
    "version": 3
   },
   "file_extension": ".py",
   "mimetype": "text/x-python",
   "name": "python",
   "nbconvert_exporter": "python",
   "pygments_lexer": "ipython3",
   "version": "3.9.16"
  }
 },
 "nbformat": 4,
 "nbformat_minor": 2
}
